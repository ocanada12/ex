{
 "cells": [
  {
   "cell_type": "code",
   "execution_count": 10,
   "metadata": {
    "scrolled": true
   },
   "outputs": [
    {
     "data": {
      "text/plain": [
       "''"
      ]
     },
     "execution_count": 10,
     "metadata": {},
     "output_type": "execute_result"
    }
   ],
   "source": [
    "def exit():\n",
    "    switch = False\n",
    "    root.destroy()\n",
    "    exit_button = Button(root, text='Exit', command=exit, width=50)\n",
    "root.protocol(\"WM_DELETE_WINDOW\", exit)\n"
   ]
  },
  {
   "cell_type": "code",
   "execution_count": 12,
   "metadata": {},
   "outputs": [
    {
     "ename": "IndentationError",
     "evalue": "unexpected indent (<ipython-input-12-7cce7488c6cc>, line 9)",
     "output_type": "error",
     "traceback": [
      "\u001b[1;36m  File \u001b[1;32m\"<ipython-input-12-7cce7488c6cc>\"\u001b[1;36m, line \u001b[1;32m9\u001b[0m\n\u001b[1;33m    output_path = filedialog.askdirectory(parent=root, initialdir=\"/\", title='Please select a directory')\u001b[0m\n\u001b[1;37m    ^\u001b[0m\n\u001b[1;31mIndentationError\u001b[0m\u001b[1;31m:\u001b[0m unexpected indent\n"
     ]
    }
   ],
   "source": [
    "###\"\"\"꺼낼 폴더선택 : 탐색창이 뜨면 폴더 선택후 확인 누르시면 됩니다.\"\"\"###\n",
    "while True :\n",
    "    root = tkinter.Tk()\n",
    "    root.withdraw()\n",
    "    output_path = filedialog.askdirectory(\n",
    "        parent=root, initialdir=\"/\", title='Please select a directory')\n",
    "    print(\"\\noutput_path : \", output_path)\n",
    "\n",
    "    input_path = \"D:/다기관임상/\" + output_path[3:]\n",
    "    print(\"\\ninput_path : \", input_path)\n",
    "\n",
    "    ###\"\"\"파일이동\"\"\"###\n",
    "    import glob\n",
    "    import shutil as sh\n",
    "\n",
    "    class file_processing():\n",
    "        def __init__(self ,**kwargs):\n",
    "            if 'path' in kwargs.keys():\n",
    "                self.path = kwargs['path']\n",
    "            else:\n",
    "                self.path = None\n",
    "\n",
    "        def find_file_path_lv1(self):\n",
    "            ### 대상 파일 경로 확인 ###\n",
    "            file_list = glob.glob(path + '/*' )\n",
    "\n",
    "            print('>>> file list lv1')\n",
    "            for file in file_list:\n",
    "                print(file)\n",
    "            print('=' * 40)   \n",
    "\n",
    "        def find_file_path(self , **kwargs):\n",
    "            ### 대상 파일 경로 확인 ###\n",
    "            if 'type' in kwargs.keys(): # 특정 타입의 파일 경로만\n",
    "                type = '.' + kwargs['type']\n",
    "                file_list = glob.glob(path + '/**/*' + type, recursive=True)\n",
    "\n",
    "            else: # 하위 폴더의 파일 전체\n",
    "                file_list = glob.glob(path + '/**/*' )\n",
    "\n",
    "            print('>>> file list')\n",
    "            for file in file_list:\n",
    "                print(file)\n",
    "            print('=' * 40)\n",
    "            self.file_list =  file_list\n",
    "\n",
    "        def file_move(self, move_path):\n",
    "            ### 대상 파일 이동 ###\n",
    "            for file in self.file_list:\n",
    "                file_name = file.split('\\\\')[-1] # file_name = 파일명.type\n",
    "                sh.move(file ,move_path + '/' + file_name)\n",
    "\n",
    "            print('file move success.')\n",
    "\n",
    "        def file_copy(self, copy_path):\n",
    "            ### 대상 파일 복사 ###\n",
    "            for file in self.file_list:\n",
    "                file_name = file.split('\\\\')[-1] # file_name = 파일명.type\n",
    "                sh.copy(file ,copy_path)\n",
    "\n",
    "            print('file copy success.')\n",
    "\n",
    "    if __name__ == '__main__':\n",
    "        path = output_path\n",
    "        mv_path = input_path\n",
    "\n",
    "        f = file_processing(path=path ,move_path = mv_path)\n",
    "        f.find_file_path_lv1()\n",
    "        f.find_file_path(type=\"avi\")\n",
    "        #f.file_move(mv_path)\n",
    "        f.file_move(mv_path)"
   ]
  }
 ],
 "metadata": {
  "kernelspec": {
   "display_name": "Python 3",
   "language": "python",
   "name": "python3"
  },
  "language_info": {
   "codemirror_mode": {
    "name": "ipython",
    "version": 3
   },
   "file_extension": ".py",
   "mimetype": "text/x-python",
   "name": "python",
   "nbconvert_exporter": "python",
   "pygments_lexer": "ipython3",
   "version": "3.8.5"
  }
 },
 "nbformat": 4,
 "nbformat_minor": 4
}
